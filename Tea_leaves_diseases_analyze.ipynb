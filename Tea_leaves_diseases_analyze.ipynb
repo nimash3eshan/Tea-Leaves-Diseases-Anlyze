{
  "nbformat": 4,
  "nbformat_minor": 0,
  "metadata": {
    "colab": {
      "provenance": [],
      "authorship_tag": "ABX9TyO6hDeiLTbJxs/vSpIVdMxu",
      "include_colab_link": true
    },
    "kernelspec": {
      "name": "python3",
      "display_name": "Python 3"
    },
    "language_info": {
      "name": "python"
    }
  },
  "cells": [
    {
      "cell_type": "markdown",
      "metadata": {
        "id": "view-in-github",
        "colab_type": "text"
      },
      "source": [
        "<a href=\"https://colab.research.google.com/github/nimash3eshan/Tea-Leaves-Diseases-Anlyze/blob/main/Tea_leaves_diseases_analyze.ipynb\" target=\"_parent\"><img src=\"https://colab.research.google.com/assets/colab-badge.svg\" alt=\"Open In Colab\"/></a>"
      ]
    },
    {
      "cell_type": "markdown",
      "source": [
        "# **GREEN TEA LEAVES DISEASE ANALYSER**\n",
        "# WEB BASED DISEASE DETECTING AND SOLUTIONS PROVIDING SYSTEM\n",
        "## INFORMATICS INSTITUTE OF TECHNOLOGY\n",
        "\n",
        "---"
      ],
      "metadata": {
        "id": "f8MRzIZIo4Tt"
      }
    },
    {
      "cell_type": "markdown",
      "source": [
        "Project Proposal by: Supeshi Dissanayaka \n",
        "\n",
        "ID: 2019879\n",
        "\n",
        "Faculty: Faculty of Computer Science"
      ],
      "metadata": {
        "id": "HQ4DtbCVp2lP"
      }
    },
    {
      "cell_type": "markdown",
      "source": [
        "### Introduction\n",
        "<p>web-based system for detecting and providing solutions for diseases in green tea leaves in Sri Lanka. The system will utilize cutting-edge computer technology such as image processing and machine learning methods to automate the process of disease detection, which is currently done manually. The goal of the system is to improve tea cultivation and production in Sri Lanka by providing farmers with early detection of diseases and helpful information for their management, thus improving the safety of the growing conditions and reducing the environmental impact of chemical use. The main objective of the application is to identify the diseases that occur in tea leaves before spreading them among tea cultivation, and also to suggest suitable treatments for the disease.</p>"
      ],
      "metadata": {
        "id": "xVbHMzScqsPc"
      }
    },
    {
      "cell_type": "markdown",
      "source": [
        "## **1. Import Libraries**\n",
        "<p>Before beginning we need to import suitable Libraries to our workspace "
      ],
      "metadata": {
        "id": "Jx-gjaCCrJcI"
      }
    },
    {
      "cell_type": "code",
      "source": [
        "import pandas as pd\n",
        "import numpy as np\n",
        "import seaborn as sns\n",
        "import matplotlib.pyplot as plt\n",
        "import matplotlib.image as mpimg  \n",
        "import random\n",
        "import pathlib\n",
        "from sklearn.model_selection import train_test_split\n",
        "from sklearn.metrics import roc_auc_score, roc_curve\n",
        "from sklearn.metrics import classification_report, ConfusionMatrixDisplay, confusion_matrix\n",
        "import tensorflow as tf\n",
        "from tensorflow import keras\n",
        "from keras.preprocessing.image import ImageDataGenerator\n",
        "from keras.models import Sequential, Functional, clone_model\n",
        "from keras.layers import Dropout, Dense, BatchNormalization, Input, concatenate, Flatten, Conv2D, MaxPool2D, Activation\n",
        "from keras import regularizers, initializers, Model\n",
        "from keras.callbacks import ReduceLROnPlateau, EarlyStopping\n",
        "from keras import regularizers, initializers, Model"
      ],
      "metadata": {
        "id": "gvCbEAeer6Ot"
      },
      "execution_count": 34,
      "outputs": []
    },
    {
      "cell_type": "markdown",
      "source": [
        "The imports several libraries that are commonly used for data analysis and machine learning tasks.\n",
        "\n",
        "* pandas is a library for data manipulation and analysis. It provides data structures and functions for working with structured data, such as dataframes and series, which allow you to easily manipulate and analyze large sets of data.\n",
        "\n",
        "* numpy is a library for mathematical computing in Python. It provides a wide range of mathematical functions and data structures, such as arrays and matrices, that are useful for numerical computations.\n",
        "\n",
        "* seaborn is a data visualization library built on top of matplotlib. It provides a high-level interface for creating and customizing various types of plots, such as bar plots, scatter plots, and heatmaps, and is particularly useful for creating and visualizing statistical data.\n",
        "\n",
        "* matplotlib is a library for creating 2D plots and graphs. It provides a wide range of plotting functions, including scatter plots, line plots, and histograms, and allows you to customize various aspects of the plots, such as axis labels, colors, and line styles.\n",
        "\n",
        "* random is a built-in python library that provides various functions for generating random numbers and sequences.\n",
        "\n",
        "* pathlib is a python library that provides an object-oriented way of working with file and directory paths. It makes it easy to create and manipulate file paths, and it is compatible with both Windows and Unix-based systems.\n",
        "\n",
        "* sklearn (scikit-learn) is a machine learning library for Python. It provides a wide range of tools and techniques for tasks such as classification, regression, clustering, and model selection.\n",
        "\n",
        "* tensorflow is a powerful open-source machine learning framework developed by Google. It allows you to easily build and train machine learning models, such as deep neural networks, and it provides a wide range of tools and libraries for tasks such as image processing, natural language processing, and time series analysis.\n",
        "\n",
        "* keras is a high-level neural networks API, written in Python and capable of running on top of TensorFlow. It is designed to enable fast experimentation with deep neural networks, and it provides a simple and user-friendly interface for building and training complex models.\n",
        "\n",
        "* ImageDataGenerator is a Keras class that can be used to generate batches of tensor image data with real-time data augmentation. It can be used to generate additional training data by applying random transformations to the images, such as rotations, shifts, and flips.\n",
        "\n",
        "* Sequential is a linear stack of layers from keras that is used to create a simple feed-forward model.\n",
        "\n",
        "Dropout, Dense, BatchNormalization, Input, concatenate, Flatten, Conv2D, MaxPool2D, and Activation are different types of layers that can be added to a neural network model in Keras.\n",
        "\n",
        "* Dropout is a regularization technique that helps to prevent overfitting by randomly dropping out (i.e., setting to zero) a certain percentage of neurons during training.\n",
        "\n",
        "* Dense is a fully connected layer, which means that each neuron in the layer is connected to all the neurons in the previous layer.\n",
        "\n",
        "* BatchNormalization is a technique to normalize the activations of the previous layer at each batch, in order to stabilize and speed up the training process.\n",
        "\n",
        "* Input is used as the first layer to instantiate a Keras model.\n",
        "\n",
        "* concatenate is used to concatenate or join multiple layers or tensors together.\n",
        "\n",
        "* Flatten is used to flatten the multi-dimensional tensors in a single dimension.\n",
        "\n",
        "* Conv2D is used to create a convolutional layer, which is commonly used in image processing tasks to extract features from images.\n",
        "\n",
        "* MaxPool2D is used to perform max pooling, which is a down-sampling technique that helps to reduce the spatial dimensions of the data and extract important features.\n",
        "\n",
        "* Activation is used to apply an activation function, such as ReLU or sigmoid, to the output of a layer to introduce non-linearity in the model.\n",
        "\n",
        "\n",
        "\n"
      ],
      "metadata": {
        "id": "6Q4JuXks0n-P"
      }
    },
    {
      "cell_type": "markdown",
      "source": [
        "## **2. Load the DataSet**\n",
        "Before doing further data analysis, this part describes the data processing procedure. Giving each column a new name and determining the data set's size are only a few examples of the data loading procedure.\n",
        "\n",
        "For loading the dataset, we will use a Kaggle dataset, which has a large amount of sample data. This will make it easy to train our model more accurately, as we will have more data to learn from. \n",
        "\n",
        "The DataSet Link : [Tea leaves diseases data](https://www.kaggle.com/datasets/shashwatwork/identifying-disease-in-tea-leafs?resource=download)\n",
        "\n",
        "But Dataset is huge (776MB) so we are going to install kaggle library and directly import the dataset"
      ],
      "metadata": {
        "id": "MR8A0oZo19Bm"
      }
    },
    {
      "cell_type": "code",
      "source": [
        "!pip install kaggle"
      ],
      "metadata": {
        "id": "gtLKVf5E2AuQ"
      },
      "execution_count": null,
      "outputs": []
    },
    {
      "cell_type": "code",
      "source": [
        "from google.colab import drive\n",
        "drive.mount('/content/drive')"
      ],
      "metadata": {
        "id": "_8CCLN404c35"
      },
      "execution_count": null,
      "outputs": []
    },
    {
      "cell_type": "code",
      "source": [
        "! mkdir /content/kaggle"
      ],
      "metadata": {
        "id": "9YMlA-Sk5sxL"
      },
      "execution_count": null,
      "outputs": []
    },
    {
      "cell_type": "code",
      "source": [
        "!cp /content/drive/MyDrive/kaggle/kaggle.json /content/kaggle/kaggle.json"
      ],
      "metadata": {
        "id": "z7Pe3_lm8J2t"
      },
      "execution_count": null,
      "outputs": []
    },
    {
      "cell_type": "code",
      "source": [
        "!chmod 600 /content/kaggle/kaggle.json"
      ],
      "metadata": {
        "id": "F_WxO8ql8o9-"
      },
      "execution_count": null,
      "outputs": []
    },
    {
      "cell_type": "code",
      "source": [
        "!KAGGLE_CONFIG_DIR=/content/kaggle/ kaggle datasets download -d shashwatwork/identifying-disease-in-tea-leafs"
      ],
      "metadata": {
        "id": "Sse8y-2J-tA2"
      },
      "execution_count": null,
      "outputs": []
    },
    {
      "cell_type": "markdown",
      "source": [
        "**The codes does the following:**\n",
        "\n",
        "1. Mount the Google Drive at the /content/drive path.\n",
        "2. Create a new directory called /content/kaggle\n",
        "3. Copy the kaggle.json file from /content/drive/MyDrive/kaggle/kaggle.json to /content/kaggle/kaggle.json\n",
        "4. Change the permissions of the kaggle.json file to 600, which means that the file owner has read and write permission, and no other user has any permission.\n",
        "5. Download the dataset 'identifying-disease-in-tea-leafs' from kaggle using the downloaded kaggle.json file, and saving it to the /content/kaggle/ directory.\n"
      ],
      "metadata": {
        "id": "wvlL7sTEDRL-"
      }
    },
    {
      "cell_type": "code",
      "source": [
        "!unzip ./identifying-disease-in-tea-leafs.zip"
      ],
      "metadata": {
        "id": "AhdWoqzjEEbh"
      },
      "execution_count": null,
      "outputs": []
    },
    {
      "cell_type": "markdown",
      "source": [
        "This will decompressed our data\n"
      ],
      "metadata": {
        "id": "wruJH7mFEybA"
      }
    },
    {
      "cell_type": "markdown",
      "source": [
        "## **3. Exploratory Data Analysis (EDA)**\n",
        "In the Exploratory Data Analysis (EDA) part, we will be analyzing the tea leaf disease dataset that we have obtained. The main objective of this step is to gain a deeper understanding of the data and its characteristics. This step is crucial as it helps to identify patterns, trends, and outliers that may be present in the data. Additionally, EDA also helps to identify any missing or duplicate data, and to determine the quality of the data."
      ],
      "metadata": {
        "id": "0ick7gqbFc09"
      }
    },
    {
      "cell_type": "markdown",
      "source": [
        "### Lets Define path or directory of the files"
      ],
      "metadata": {
        "id": "q5q-FXKyKLcE"
      }
    },
    {
      "cell_type": "code",
      "source": [
        "dataset_path = '/content/tea sickness dataset/'\n",
        "algal_leaf_path = '/content/tea sickness dataset/algal leaf'\n",
        "anthracnose_path = '/content/tea sickness dataset/Anthracnose'\n",
        "bird_eye_spot_path = '/content/tea sickness dataset/bird eye spot'\n",
        "brown_blight_path = '/content/tea sickness dataset/brown blight'\n",
        "gray_light_path = '/content/tea sickness dataset/gray light'\n",
        "healthy_path = '/content/tea sickness dataset/healthy'\n",
        "red_leaf_spot_path = '/content/tea sickness dataset/red leaf spot'\n",
        "white_spot_path = '/content/tea sickness dataset/white spot'\n",
        "\n",
        "dataset_path = pathlib.Path(dataset_path)\n",
        "algal_leaf_path = pathlib.Path(algal_leaf_path)\n",
        "anthracnose_path = pathlib.Path(anthracnose_path)\n",
        "bird_eye_spot_path = pathlib.Path(bird_eye_spot_path)\n",
        "brown_blight_path = pathlib.Path(brown_blight_path)\n",
        "gray_light_path = pathlib.Path(gray_light_path)\n",
        "healthy_path = pathlib.Path(healthy_path)\n",
        "red_leaf_spot_path = pathlib.Path(red_leaf_spot_path)\n",
        "white_spot_path = pathlib.Path(white_spot_path)"
      ],
      "metadata": {
        "id": "x9WdwM-sF6W6"
      },
      "execution_count": null,
      "outputs": []
    },
    {
      "cell_type": "markdown",
      "source": [
        "In this code snippet, the dataset_path variable is being set to the path of the root directory of the tea sickness dataset. Then, several other path variables are being set to the paths of different subdirectories within the root directory, specifically the subdirectories containing the images of leaves with different types of diseases. These subdirectories are named algal leaf, Anthracnose, bird eye spot, brown blight, gray light, healthy, red leaf spot, and white spot. The pathlib library is being used to create Path objects for each of these file paths, which allows for more robust and flexible file path handling. This code sets up the necessary file paths for working with the images within the dataset in the subsequent steps of the project."
      ],
      "metadata": {
        "id": "Pjt-r3VZGc1p"
      }
    },
    {
      "cell_type": "markdown",
      "source": [
        "### **Lets see how many images we have in the dataset**"
      ],
      "metadata": {
        "id": "fKbTCEA7J7_e"
      }
    },
    {
      "cell_type": "code",
      "source": [
        "total_images = len(list(dataset_path.glob('*/*.jpg')))\n",
        "algal_leaf_images = list(algal_leaf_path.glob('*.jpg'))\n",
        "anthracnose_images = list(anthracnose_path.glob('*.jpg'))\n",
        "bird_eye_spot_images = list(bird_eye_spot_path.glob('*.jpg'))\n",
        "brown_blight_images = list(brown_blight_path.glob('*.jpg'))\n",
        "gray_light_images = list(gray_light_path.glob('*.jpg'))\n",
        "healthy_images = list(healthy_path.glob('*.jpg'))\n",
        "red_leaf_spot_images = list(red_leaf_spot_path.glob('*.jpg'))\n",
        "white_spot_images = list(white_spot_path.glob('*.jpg'))\n",
        "\n",
        "tea_leaves = [algal_leaf_images, anthracnose_images, bird_eye_spot_images, brown_blight_images, gray_light_images, healthy_images, red_leaf_spot_images, white_spot_images]\n",
        "tea_leaves_name = {0: 'algal leaf', 1: 'anthracnose', 2: 'bird eye spot', 3: 'brown blight', 4: 'gray light', 5: 'healthy leaf', 6: 'red leaf spot', 7: 'white spot'}\n",
        "\n",
        "print('Total all images \\t\\t:', total_images)\n",
        "\n",
        "for i, tea in enumerate(tea_leaves):\n",
        "    length = len(tea)\n",
        "    print('Total {} images \\t: {}'.format(tea_leaves_name[i], length))"
      ],
      "metadata": {
        "id": "0MX8BGddGeqA"
      },
      "execution_count": null,
      "outputs": []
    },
    {
      "cell_type": "markdown",
      "source": [
        "In this code snippet, the dataset_path variable is being set to the path of the root directory of the tea sickness dataset. Then, several other path variables are being set to the paths of different subdirectories within the root directory, specifically the subdirectories containing the images of leaves with different types of diseases. These subdirectories are named algal leaf, Anthracnose, bird eye spot, brown blight, gray light, healthy, red leaf spot, and white spot. The pathlib library is being used to create Path objects for each of these file paths, which allows for more robust and flexible file path handling. This code sets up the necessary file paths for working with the images within the dataset in the subsequent steps of the project."
      ],
      "metadata": {
        "id": "Ts0LAMfHIEzc"
      }
    },
    {
      "cell_type": "markdown",
      "source": [
        "### **Lets Visualize the image counts in a Table**"
      ],
      "metadata": {
        "id": "4uy7DM1iJpzQ"
      }
    },
    {
      "cell_type": "code",
      "source": [
        "classes_len = { 'algal leaf' : len(algal_leaf_images),\n",
        "            'anthracnose': len(anthracnose_images),\n",
        "            'bird eye spot': len(bird_eye_spot_images),\n",
        "            'brown blight': len(brown_blight_images),\n",
        "            'gray blight': len(gray_light_images), \n",
        "            'healthy leaf': len(healthy_images),  \n",
        "            'red leaf spot': len(red_leaf_spot_images), \n",
        "            'white spot': len(white_spot_images)\n",
        "          }\n",
        "plt.bar(classes_len.keys(), classes_len.values());\n",
        "plt.title(\"Number of Images by Class\");\n",
        "plt.xlabel('Class Name');\n",
        "plt.xticks(rotation=90)\n",
        "plt.ylabel('Number of Images');"
      ],
      "metadata": {
        "id": "P_l4Yyn9IFi2"
      },
      "execution_count": null,
      "outputs": []
    },
    {
      "cell_type": "markdown",
      "source": [
        "This code is creating a bar chart that shows the number of images for each class of tea leaf disease. It does this by first creating a dictionary called classes_len where the keys are the names of the different types of diseases and the values are the number of images for each class.\n",
        "\n",
        "Then it uses the plt.bar() function from the matplotlib library to create the bar chart. The first argument passed to this function is the names of the classes (i.e. the keys of the classes_len dictionary) and the second argument is the number of images for each class (i.e. the values of the classes_len dictionary).\n",
        "\n",
        "The code then uses the plt.title(), plt.xlabel(), and plt.ylabel() functions to label the chart with a title, x-axis label, and y-axis label respectively. The plt.xticks(rotation=90) is used to rotate x-axis label 90 degree to make more legible.\n",
        "\n",
        "The overall purpose of this code is to visualize the distribution of the images among different classes."
      ],
      "metadata": {
        "id": "78GCH6MJIpgi"
      }
    },
    {
      "cell_type": "markdown",
      "source": [
        "### **Lets visualize the first 5 images of each class**"
      ],
      "metadata": {
        "id": "X0Gr9YuCJVi9"
      }
    },
    {
      "cell_type": "code",
      "source": [
        "classes = { 'algal leaf' : algal_leaf_images,\n",
        "            'anthracnose': anthracnose_images,\n",
        "            'bird eye spot': bird_eye_spot_images,\n",
        "            'brown blight': brown_blight_images,\n",
        "            'gray blight': gray_light_images, \n",
        "            'healthy leaf': healthy_images,  \n",
        "            'red leaf spot': red_leaf_spot_images, \n",
        "            'white spot': white_spot_images\n",
        "          }\n",
        "\n",
        "for cls in classes.keys():\n",
        "  folder_name = classes[cls]\n",
        "  fig = plt.figure(figsize=(20, 20))\n",
        "  columns = 5\n",
        "  rows = 1\n",
        "  print('Class : ', cls)\n",
        "  for index in range(1, columns*rows +1):\n",
        "      fig.add_subplot(rows, columns, index)\n",
        "      image = plt.imread(str(folder_name[index]))\n",
        "      plt.imshow(image)\n",
        "      plt.axis(\"off\")\n",
        "  plt.show()"
      ],
      "metadata": {
        "id": "kUiFIFNKIqB_"
      },
      "execution_count": null,
      "outputs": []
    },
    {
      "cell_type": "markdown",
      "source": [
        "This code first creates a dictionary called \"classes\" where the keys are the different class names (e.g. \"algal leaf\") and the values are lists of file paths to images in that class. Then, it iterates through each class name in the \"classes\" dictionary, and for each class, it creates a new figure with a grid of subplots. The number of rows and columns in this grid is determined by the \"rows\" and \"columns\" variables. For each subplot, the code reads the corresponding image file from the list of file paths, and displays it in the subplot. The title of the figure is the class name, and the function plt.axis(\"off\") remove the axis from the image."
      ],
      "metadata": {
        "id": "gUnvj0FfJNT-"
      }
    },
    {
      "cell_type": "markdown",
      "source": [
        "### **Lets Check dimension of each images**"
      ],
      "metadata": {
        "id": "3LYcDLrVKhvQ"
      }
    },
    {
      "cell_type": "code",
      "source": [
        "for cls in classes.keys():\n",
        "  folder_name = classes[cls]\n",
        "  print('Class : ', cls)\n",
        "  for index in range(len(classes[cls])):\n",
        "      image = plt.imread(str(folder_name[index]))\n",
        "      h, w, c = image.shape\n",
        "      print('height: {}, width: {}, Channel/Color Spectrum: {} - RGB if 3, Grayscale if 1'.format(h, w, c))"
      ],
      "metadata": {
        "id": "vnhFHP1hKsPC"
      },
      "execution_count": null,
      "outputs": []
    },
    {
      "cell_type": "markdown",
      "source": [
        "This code iterates through each class in the classes dictionary, and for each class, it retrieves the associated folder name which contains the images of that class. Then it iterates through each image in the folder and uses the imread function from the matplotlib library to read the image file, and store it in the variable image. Then it retrieves the height, width, and number of channels (c) of the image using the shape attribute. Finally, it prints the values of the height, width, and number of channels for each image, along with a message indicating what those values represent. This is useful for understanding the dimensions and properties of the images in the dataset, which can help inform decisions about how to preprocess and model the data.\n",
        "\n",
        "All of the photos are RGB with three color channels, as can be seen from the dimensions stated for each class. Algal leaf has the same dimension as 1024 x 768, anthracnose primarily has the same dimension with different orientations (4160 x 3120 for portrait and 3120 x 4160 for landscape), bird eye spot primarily has the same dimension as 4160 x 3120 for portrait and 3120 x 4160 for landscape, brown blight primarily has the same dimension as 1024 x 768 for brown blight, healthy primarily has two dimensions (1024 x 768 & 10"
      ],
      "metadata": {
        "id": "t80PCsAojMce"
      }
    },
    {
      "cell_type": "markdown",
      "source": [
        "## **4. Data Preprocessing**\n",
        "\n",
        "In this next step of the project, we will be implementing the data preprocessing stage. This is an important step in any machine learning project, as it involves cleaning and preparing the data so that it is in a format that can be easily used for training and evaluating the model. This may involve tasks such as scaling and normalizing the data, removing outliers and missing values, and converting the data into a format that can be easily read by the model. By properly preprocessing the data, we can help ensure that the model is able to learn useful patterns and features from the data, and can help improve the overall performance and accuracy of the model."
      ],
      "metadata": {
        "id": "i1yxnp1ojd-H"
      }
    },
    {
      "cell_type": "code",
      "source": [
        "!pip install split-folders"
      ],
      "metadata": {
        "id": "meB6xyRQjl98"
      },
      "execution_count": null,
      "outputs": []
    },
    {
      "cell_type": "markdown",
      "source": [
        "split-folders is a python library that allows us to split a single dataset into train, validation and test sets using a simple and consistent interface. This library can be very useful when we want to create a train-test split for our deep learning model. It can also be used to create a validation set for our model, which can be used to evaluate the performance of our model during the training process. With this library, we can easily split our dataset into different subsets, without having to manually move or copy files around."
      ],
      "metadata": {
        "id": "traT89x2kcaD"
      }
    },
    {
      "cell_type": "markdown",
      "source": [
        "### Lets Split the Folders"
      ],
      "metadata": {
        "id": "MRooIi02kzWW"
      }
    },
    {
      "cell_type": "code",
      "source": [
        "import splitfolders\n",
        "\n",
        "splitfolders.ratio(\"tea sickness dataset\", output=\"output\",\n",
        "    seed=25, ratio=(.8, .1, .1), group_prefix=None, move=False)"
      ],
      "metadata": {
        "id": "IoPNxx5lkdRp"
      },
      "execution_count": null,
      "outputs": []
    },
    {
      "cell_type": "markdown",
      "source": [
        "This code is using the \"splitfolders\" library to split the images in the \"tea sickness dataset\" folder into three different folders, called \"train\", \"val\", and \"test\", with the ratio of 80% for training, 10% for validation, and 10% for testing. The \"seed\" parameter is used to set a random seed for reproducibility. \"group_prefix\" parameter is set to None, it means that it will not add prefix to the folder names, and \"move\" is set to \"False\", which means that it will not move the images but just copy them to the new folders. This is a common technique in machine learning to divide the dataset into training, validation, and testing sets, in order to have a better evaluation of the model performance."
      ],
      "metadata": {
        "id": "D9BTYLCcljfA"
      }
    },
    {
      "cell_type": "markdown",
      "source": [
        "### Lets Set Data Generator"
      ],
      "metadata": {
        "id": "YU88l81Bl4Td"
      }
    },
    {
      "cell_type": "code",
      "source": [
        "batch_size = 32\n",
        "img_height = 224\n",
        "img_width = 224"
      ],
      "metadata": {
        "id": "8PWdGQuyk9lt"
      },
      "execution_count": null,
      "outputs": []
    },
    {
      "cell_type": "markdown",
      "source": [
        "The variables batch_size, img_height, and img_width are being used to set the batch size, the height and width of the images that will be used for training and testing the model. The batch size is the number of images that will be processed at a time during training. The height and width of the images will be resized to img_height and img_width respectively, so that all images have the same size before being fed into the model."
      ],
      "metadata": {
        "id": "9cCvWU6HmKJP"
      }
    },
    {
      "cell_type": "markdown",
      "source": [
        "### Lets Create two type of preprocessing of images by rescaling only and augmented\n",
        "Create two different types of picture preprocessing by rescaling alone and in combination, such as rescaling + rotation (20%) + zoom (20%) + horizontal flip, as images often still make sense whether we gently rotate, zoom, or flip them."
      ],
      "metadata": {
        "id": "IL3Q7f7WmyKe"
      }
    },
    {
      "cell_type": "code",
      "source": [
        "tf.random.set_seed(25)\n",
        "\n",
        "# Preprocess data\n",
        "train_datagen = ImageDataGenerator(rescale=1./255)\n",
        "train_datagen_augmented = ImageDataGenerator(rescale=1./255,\n",
        "                                             rotation_range=0.2,\n",
        "                                             zoom_range=0.2,\n",
        "                                             horizontal_flip=True)\n",
        "valid_datagen = ImageDataGenerator(rescale=1./255)\n",
        "\n",
        "# Set directory data\n",
        "train_dir = \"output/train/\"\n",
        "val_dir = \"output/val/\"\n",
        "test_dir = \"output/test/\"\n",
        "\n",
        "# Set data generator\n",
        "train_data = train_datagen.flow_from_directory(train_dir,\n",
        "                                               batch_size=batch_size,\n",
        "                                               target_size=(img_height, img_width),\n",
        "                                               class_mode=\"categorical\",\n",
        "                                               seed=25)\n",
        "\n",
        "train_data_augmented = train_datagen_augmented.flow_from_directory(train_dir,\n",
        "                                               batch_size=batch_size,\n",
        "                                               target_size=(img_height, img_width),\n",
        "                                               class_mode=\"categorical\",\n",
        "                                               seed=25)\n",
        "\n",
        "valid_data = valid_datagen.flow_from_directory(val_dir,\n",
        "                                               batch_size=batch_size,\n",
        "                                               target_size=(img_height, img_width),\n",
        "                                               class_mode=\"categorical\",\n",
        "                                               seed=25,\n",
        "                                               shuffle=False)\n",
        "\n",
        "test_data = valid_datagen.flow_from_directory( test_dir,\n",
        "                                               batch_size=batch_size,\n",
        "                                               target_size=(img_height, img_width),\n",
        "                                               class_mode=\"categorical\",\n",
        "                                               seed=25,\n",
        "                                               shuffle=False)"
      ],
      "metadata": {
        "id": "j3uksB2Zl-UR"
      },
      "execution_count": null,
      "outputs": []
    },
    {
      "cell_type": "markdown",
      "source": [
        "This code is used to set up data generators that will be used to read in the image data from the directories specified by the train_dir, val_dir, and test_dir variables. The data generators will be used to rescale the pixel values of the images by dividing each pixel value by 255 to bring them into the range of 0 to 1, which is a common preprocessing step for deep learning models. The train_data_augmented generator also applies data augmentation techniques such as rotation, zoom, and horizontal flip to the images in the training set to artificially increase the size of the dataset and reduce overfitting. The valid_data and test_data generators will be used to read in the validation and test sets respectively, and they set shuffle=False to ensure that the data is read in the order it appears in the directories."
      ],
      "metadata": {
        "id": "uJP1M3rim-Sp"
      }
    },
    {
      "cell_type": "markdown",
      "source": [
        "## **5. Model Definition**\n",
        "In the Model Definition part, we will define and create the architecture of our deep learning model. This will include selecting the appropriate layers, setting the number of neurons in each layer, and configuring the model's parameters. The goal of this step is to design a model that can effectively learn the patterns in the data and make accurate predictions. This is a crucial step in building a successful machine learning model, as the model's architecture plays a significant role in determining its performance.\n"
      ],
      "metadata": {
        "id": "dy3HkjOHnrsO"
      }
    },
    {
      "cell_type": "markdown",
      "source": [
        "Computer vision using a Convolutional Neural Network model that can recognize the categorization of sickness in tea leaves from a dataset is one of the objectives that should be accomplished in this scenario. There are two different types of convolutional neural networks, and they will be trained and assessed in the following ways:\n",
        "\n",
        "1. CNN - Sequential API\n",
        "2. CNN - Functional API"
      ],
      "metadata": {
        "id": "nEW-y7pspPls"
      }
    },
    {
      "cell_type": "markdown",
      "source": [
        "## **6. Model Training**\n",
        "In this Section, we will be training our deep learning model using the dataset that we have prepared and preprocessed in the previous steps. This is an important step as it allows the model to learn from the data and make predictions on unseen data. We will be using a combination of techniques such as backpropagation, gradient descent, and other optimization algorithms to train the model. Additionally, we may also use techniques such as early stopping, learning rate scheduling, and regularization to further improve the performance of the model. Overall, the goal of this step is to fine-tune the model's parameters so that it can make accurate predictions on new data.\n",
        "\n",
        "\n",
        "This contains only the code for training the cell model and the resulting output. Do the training process several times with different magnifications to see the results obtained. Analyze and describe these results in the Model Evaluation section.\n"
      ],
      "metadata": {
        "id": "zak-pwhepaU5"
      }
    },
    {
      "cell_type": "markdown",
      "source": [
        "### **- CNN - Sequential API**\n",
        "\n",
        "The next step in building our tea leaf disease detection model is to define the model architecture using the Sequential API of Keras. This is a simpler way of defining a model where the layers are added one by one in a linear stack. We will be using a Convolutional Neural Network (CNN) architecture, which is commonly used for image classification tasks. This architecture will consist of several layers, including convolutional layers, pooling layers, and fully connected layers. The goal of this step is to define the structure of the model, and set up the layers and parameters that will be trained during the model training phase."
      ],
      "metadata": {
        "id": "lqO5mOllqOVl"
      }
    },
    {
      "cell_type": "markdown",
      "source": [
        "#### Lets build 1st Sequential API Model"
      ],
      "metadata": {
        "id": "mjZMVcmiqgpx"
      }
    },
    {
      "cell_type": "code",
      "source": [
        "# Declare 1st Sequential API model\n",
        "model_s1 = Sequential()\n",
        "\n",
        "# convolutional + maxpooling\n",
        "model_s1.add(Conv2D(16, 3, activation='relu', input_shape=(img_height, img_width, 3)))\n",
        "model_s1.add(MaxPool2D(2))\n",
        "\n",
        "model_s1.add(Conv2D(32, 3, activation='relu'))\n",
        "model_s1.add(MaxPool2D(2))\n",
        "\n",
        "model_s1.add(Conv2D(64, 3, activation='relu'))\n",
        "model_s1.add(MaxPool2D(2))\n",
        "\n",
        "# flattening\n",
        "model_s1.add(Flatten())\n",
        "\n",
        "# neural-networking\n",
        "model_s1.add(Dense(32, activation='relu'))\n",
        "model_s1.add(Dense(8, activation='softmax'))"
      ],
      "metadata": {
        "id": "jeHQ6RRWm510"
      },
      "execution_count": null,
      "outputs": []
    },
    {
      "cell_type": "markdown",
      "source": [
        "This code block defines a Convolutional Neural Network (CNN) using the Sequential API of the Keras library. The model starts with three convolutional layers, each followed by a max pooling layer. These layers extract features from the input images by applying filters and down-sampling the image. The output of these layers is then flattened to a one-dimensional array, which is then passed through two fully-connected (dense) layers. The final layer has 8 neurons and a softmax activation function to output the probability of the image belongs to each class. This is a simple architecture for the model which can be improved based on the complexity of the problem and the data."
      ],
      "metadata": {
        "id": "3TEo9W3Vrf60"
      }
    },
    {
      "cell_type": "markdown",
      "source": [
        "#### Lets compile the Model"
      ],
      "metadata": {
        "id": "H9nOG2y1sAy6"
      }
    },
    {
      "cell_type": "markdown",
      "source": [
        "Using optimizer \"adam\" refers to the best optimizer, loss function \"categorical_crossentropy\" since the expected output is the highest probability between classes [\"Anthracnose,\" \"algal leaf,\" \"bird eye spot,\" \"brown blight,\" \"gray light,\" \"healthy,\" \"red leaf spot,\" and \"white spot,\"] and metrics \"accuracy\" for model learning monitoring."
      ],
      "metadata": {
        "id": "d2Bn9MW5r30l"
      }
    },
    {
      "cell_type": "code",
      "source": [
        "model_s1.compile(loss='categorical_crossentropy',\n",
        "              optimizer='adam',\n",
        "              metrics=['accuracy'])"
      ],
      "metadata": {
        "id": "6aCIXYHarSlz"
      },
      "execution_count": null,
      "outputs": []
    },
    {
      "cell_type": "markdown",
      "source": [
        "This code is compiling the model using the compile() method. The first argument passed to this method is the loss function, in this case 'categorical_crossentropy'. This loss function is used for multi-class classification problems, where the goal is to predict one of several possible classes. The second argument is the optimizer, in this case 'adam'. The Adam optimizer is an algorithm for first-order gradient-based optimization of stochastic objective functions, based on adaptive estimates of lower-order moments. The third argument is the metrics, in this case 'accuracy', it is used to measure the accuracy of the model during training and testing. This will allow us to track the performance of the model over time and make adjustments as needed."
      ],
      "metadata": {
        "id": "utqL1OUxss4U"
      }
    },
    {
      "cell_type": "markdown",
      "source": [
        "For the training of the model, the input data used is \"train_data\" and for validation, the input data used is \"valid_data\". The model will be trained for 30 iterations, known as epochs, and will also utilize the \"ReduceLROnPlateau\" callback function during training."
      ],
      "metadata": {
        "id": "d6R3jBaDud6L"
      }
    },
    {
      "cell_type": "code",
      "source": [
        "# Lets Train 1st Sequential API model\n",
        "reduce_lr = ReduceLROnPlateau(monitor='val_loss', factor=0.1, patience=8, min_lr=0.0001)\n",
        "\n",
        "# in here, earlystop = EarlyStopping(monitor='val_accuracy', mode='auto', patience=10, restore_best_weights=True)\n",
        "history_s1 = model_s1.fit(train_data, epochs=30, validation_data=valid_data, callbacks=[reduce_lr])\n",
        "     "
      ],
      "metadata": {
        "id": "NKX0D-9osSwa"
      },
      "execution_count": null,
      "outputs": []
    },
    {
      "cell_type": "code",
      "source": [
        "# Plot loss & accuracy of 1st Sequential API model\n",
        "\n",
        "plt.plot(history_s1.history['loss'])\n",
        "plt.plot(history_s1.history['val_loss'])\n",
        "plt.title('Model loss')\n",
        "plt.ylabel('Loss')\n",
        "plt.xlabel('Epoch')\n",
        "plt.legend(['Train', 'Val'], loc='upper right')\n",
        "plt.show()"
      ],
      "metadata": {
        "colab": {
          "base_uri": "https://localhost:8080/",
          "height": 295
        },
        "id": "Mn-iKCH5unqz",
        "outputId": "fa0b8ec1-b1bf-4f01-a788-a6e2ffc67a1c"
      },
      "execution_count": 35,
      "outputs": [
        {
          "output_type": "display_data",
          "data": {
            "text/plain": [
              "<Figure size 432x288 with 1 Axes>"
            ],
            "image/png": "[encoded data removed]"
          },
          "metadata": {
            "needs_background": "light"
          }
        }
      ]
    },
    {
      "cell_type": "markdown",
      "source": [
        "The following plot the loss of the model during training and validation process. The \"plt.plot()\" function is used to plot the loss of the model during training and validation process. The \"plt.title()\", \"plt.ylabel()\", \"plt.xlabel()\" and \"plt.legend()\" functions are used to add title, labels, and legend to the plot. The \"plt.show()\" function is used to display the plot.\n",
        "\n",
        "This plot will be useful to see how the model is performing during the training process. If the training loss is decreasing and the validation loss is also decreasing, this means the model is learning and generalizing well. If the validation loss is increasing, it could mean that the model is overfitting to the training data, and you will have to take steps to address overfitting."
      ],
      "metadata": {
        "id": "T2afzkfpFLfw"
      }
    },
    {
      "cell_type": "code",
      "source": [
        "plt.plot(history_s1.history['accuracy'])\n",
        "plt.plot(history_s1.history['val_accuracy'])\n",
        "plt.title('Model Accuracy')\n",
        "plt.ylabel('Accuracy')\n",
        "plt.xlabel('Epoch')\n",
        "plt.legend(['Train', 'Val'], loc='lower right')\n",
        "plt.show()"
      ],
      "metadata": {
        "colab": {
          "base_uri": "https://localhost:8080/",
          "height": 295
        },
        "id": "05XrJIhyA90V",
        "outputId": "acb7fffa-589b-4a88-9b68-eacd36225bfa"
      },
      "execution_count": 36,
      "outputs": [
        {
          "output_type": "display_data",
          "data": {
            "text/plain": [
              "<Figure size 432x288 with 1 Axes>"
            ],
            "image/png": "[encoded data removed]"
          },
          "metadata": {
            "needs_background": "light"
          }
        }
      ]
    },
    {
      "cell_type": "markdown",
      "source": [
        "This code is plotting the training and validation accuracy of the 1st Sequential API model over each epoch of training. The x-axis represents the number of epochs, and the y-axis represents the accuracy. The blue line represents the training accuracy and the orange line represents the validation accuracy. The 'Model Accuracy' is the title of the plot, and the legend on the lower right corner specifies which line represents the training and validation accuracy. The purpose of this plot is to visualize how well the model is performing on the training data and how well it is generalizing to new data (validation data) during the training process."
      ],
      "metadata": {
        "id": "U1R7F8upFZj2"
      }
    },
    {
      "cell_type": "markdown",
      "source": [
        "We can see that 1st CNN sequential API model indicates both loss and accuracy are divergent. Learning curve in train set its loss function significantly decreases into 0,01 meanwhile in valid set its loss function moves divergent to 1,60. The train set's accuracy indicates 0,99 which means too good to be true while the valid set's accuracy stucks in 0,66. It is a clear sign in which this model tends to overfitting."
      ],
      "metadata": {
        "id": "1ToQLKyRBbl5"
      }
    },
    {
      "cell_type": "code",
      "source": [
        "# save trained model_s1\n",
        "model_s1.save('model_s1.h5')"
      ],
      "metadata": {
        "id": "8SXWARTwA_6v"
      },
      "execution_count": null,
      "outputs": []
    },
    {
      "cell_type": "markdown",
      "source": [
        "This code is saving the trained model_s1 as a HDF5 file. HDF5 is a file format for storing large amounts of numerical data. It is designed to handle very large datasets that can be efficiently stored, compressed, and manipulated. By saving the model as a .h5 file, it can be easily loaded and used for future predictions or further training. The \".save\" function in this line of code is from the Keras library, which is a high-level neural networks API that runs on top of TensorFlow."
      ],
      "metadata": {
        "id": "wDaxHxMjFodv"
      }
    },
    {
      "cell_type": "markdown",
      "source": [
        "### Build 2nd Sequential API Model\n",
        "Building with 3 layers convolutional2D with different filters (16, 32, 64) with 3x3 & maxpool2D, then flattening prior fully-connected neural-networking with 1 hidden layers (with 32 neurons) then setting up dropout 0.3 which means that the neurons in the previous layer has a probability of 0.3 in dropping out during training. All activation function are using relu"
      ],
      "metadata": {
        "id": "Db6C0CstBW7t"
      }
    },
    {
      "cell_type": "code",
      "source": [
        "# Declare 2nd Sequential API model\n",
        "model_s2 = Sequential()\n",
        "\n",
        "# convolutional + maxpooling\n",
        "model_s2.add(Conv2D(16, 3, activation='relu', input_shape=(img_height, img_width, 3)))\n",
        "model_s2.add(MaxPool2D(2))\n",
        "\n",
        "model_s2.add(Conv2D(32, 3, activation='relu'))\n",
        "model_s2.add(MaxPool2D(2))\n",
        "\n",
        "model_s2.add(Conv2D(64, 3, activation='relu'))\n",
        "model_s2.add(MaxPool2D(2))\n",
        "\n",
        "# flattening\n",
        "model_s2.add(Flatten())\n",
        "\n",
        "# neural-networking\n",
        "model_s2.add(Dense(32, activation='relu'))\n",
        "model_s2.add(Dropout(0.3))\n",
        "model_s2.add(Dense(8, activation='softmax'))\n"
      ],
      "metadata": {
        "id": "4PD1txLyBGlC"
      },
      "execution_count": 37,
      "outputs": []
    },
    {
      "cell_type": "markdown",
      "source": [
        " The input shape for the model is specified as (img_height, img_width, 3), which means the model expects images to have a height and width of img_height and img_width, and 3 color channels (RGB). The activation function used for the convolutional and dense layers is 'relu', which stands for rectified linear unit. Dropout layers are also added to the model which will help to prevent overfitting by randomly \"turning off\" a certain percentage of neurons during training. Finally, the last layer has 8 neurons with softmax activation which will give the probability of each class."
      ],
      "metadata": {
        "id": "MzqWovxPF38Q"
      }
    },
    {
      "cell_type": "markdown",
      "source": [
        "Using optimizer 'adam' refers to most favorable optimizer, loss function 'categorical_crossentropy' since expected output is the most highest probability between class ['Anthracnose', 'algal leaf', 'bird eye spot', 'brown blight', 'gray light', 'healthy', 'red leaf spot', 'white spot'], and metrics 'accuracy' for monitoring in model learning"
      ],
      "metadata": {
        "id": "lD1DR8vqBTPr"
      }
    },
    {
      "cell_type": "code",
      "source": [
        "# model-compiling\n",
        "model_s2.compile(loss='categorical_crossentropy',\n",
        "              optimizer='adam',\n",
        "              metrics=['accuracy'])"
      ],
      "metadata": {
        "id": "cOGBTVVVBIwN"
      },
      "execution_count": null,
      "outputs": []
    },
    {
      "cell_type": "markdown",
      "source": [
        "Using input train_data_augmented for training and valid_data for validation, with 30 epochs for model learning, and ReduceLROnPlateau callbacks"
      ],
      "metadata": {
        "id": "cZGVvysVBQUZ"
      }
    },
    {
      "cell_type": "code",
      "source": [
        "# Train 2nd Sequential API model\n",
        "reduce_lr = ReduceLROnPlateau(monitor='val_loss', factor=0.1, patience=8, min_lr=0.0001)\n",
        "\n",
        "# earlystop = EarlyStopping(monitor='val_accuracy', mode='auto', patience=10, restore_best_weights=True)\n",
        "history_s2 = model_s2.fit(train_data_augmented, epochs=30, validation_data=valid_data, callbacks=[reduce_lr])"
      ],
      "metadata": {
        "id": "jz3QD7N1BK4s"
      },
      "execution_count": null,
      "outputs": []
    },
    {
      "cell_type": "markdown",
      "source": [
        " training a 2nd Sequential API model using the model_s2.fit() method. This method takes in the training data, which is the train_data_augmented variable in this case. It also takes in the number of training epochs, which is set to 30. The validation data is also passed in, which is the valid_data variable.\n",
        "Additionally, a reduce_lr callback is passed in, which is an instance of the ReduceLROnPlateau class. This callback reduces the learning rate of the optimizer when the validation loss stops improving. This can help prevent overfitting and improve the overall performance of the model."
      ],
      "metadata": {
        "id": "Vux5siE4GFc_"
      }
    },
    {
      "cell_type": "code",
      "source": [
        "# Plot loss & accuracy of 2nd Sequential API model\n",
        "\n",
        "plt.plot(history_s2.history['loss'])\n",
        "plt.plot(history_s2.history['val_loss'])\n",
        "plt.title('Model loss')\n",
        "plt.ylabel('Loss')\n",
        "plt.xlabel('Epoch')\n",
        "plt.legend(['Train', 'Val'], loc='upper right')\n",
        "plt.show()"
      ],
      "metadata": {
        "id": "olgJFYmEWnWh",
        "colab": {
          "base_uri": "https://localhost:8080/",
          "height": 295
        },
        "outputId": "8945b9af-12e9-453d-e39e-1ac08338e589"
      },
      "execution_count": 38,
      "outputs": [
        {
          "output_type": "display_data",
          "data": {
            "text/plain": [
              "<Figure size 432x288 with 1 Axes>"
            ],
            "image/png": "[encoded data removed]"
          },
          "metadata": {
            "needs_background": "light"
          }
        }
      ]
    },
    {
      "cell_type": "markdown",
      "source": [
        "The x-axis represents the number of epochs, and the y-axis represents the loss. The blue line represents the training loss and the orange line represents the validation loss. The title of the plot is \"Model loss\" and the y-axis is labeled \"Loss\" and x-axis is labeled \"Epoch\". The legend of the plot is \"Train\" and \"Val\" and it is located at the upper right corner of the plot. This plot can be used to evaluate the performance of the model and check for overfitting by comparing the training loss and the validation loss. If the validation loss is consistently higher than the training loss, it may indicate overfitting."
      ],
      "metadata": {
        "id": "q3lsL-z-GSmN"
      }
    },
    {
      "cell_type": "code",
      "source": [
        "plt.plot(history_s2.history['accuracy'])\n",
        "plt.plot(history_s2.history['val_accuracy'])\n",
        "plt.title('Model Accuracy')\n",
        "plt.ylabel('Accuracy')\n",
        "plt.xlabel('Epoch')\n",
        "plt.legend(['Train', 'Val'], loc='lower right')\n",
        "plt.show()"
      ],
      "metadata": {
        "id": "o71k74h3FHfq",
        "colab": {
          "base_uri": "https://localhost:8080/",
          "height": 295
        },
        "outputId": "9d4c7db8-4fa3-4426-9b81-6b5fa657b86d"
      },
      "execution_count": 39,
      "outputs": [
        {
          "output_type": "display_data",
          "data": {
            "text/plain": [
              "<Figure size 432x288 with 1 Axes>"
            ],
            "image/png": "[encoded data removed]"
          },
          "metadata": {
            "needs_background": "light"
          }
        }
      ]
    },
    {
      "cell_type": "markdown",
      "source": [
        "The \"loss\" plot shows the training and validation loss over the number of epochs. The \"accuracy\" plot shows the training and validation accuracy over the number of epochs. The \"Train\" line represents the training performance of the model, while the \"Val\" line represents the validation performance of the model.\n",
        "\n",
        "The accuracy plot shows us how well the model performed on the validation set during the training. You can see the accuracy of the model increase as the number of epochs increases. The loss plot shows us how well the model was able to fit the data during the training. You can see the loss of the model decrease as the number of epochs increases."
      ],
      "metadata": {
        "id": "gi5fBqSdGqQn"
      }
    },
    {
      "cell_type": "markdown",
      "source": [
        "We can see that 2nd CNN sequential API model indicates both loss and accuracy are in same trendline. However, learning curve in both train set & valid set their loss function slowly decreases into 0,90. Meanwhile, both train set's accuracy and valid set's accuracy indicates 0,61. Actually, this model shows same typical trends for both loss and accuracy, but the value are still quite far from good fit."
      ],
      "metadata": {
        "id": "DyBcVtIKWyyl"
      }
    },
    {
      "cell_type": "code",
      "source": [
        "# save trained model_s2\n",
        "model_s2.save('model_s2.h5')"
      ],
      "metadata": {
        "id": "7l2SN48dWiPv",
        "colab": {
          "base_uri": "https://localhost:8080/"
        },
        "outputId": "0bfa3040-1f6b-40d6-90a4-965c55e4df39"
      },
      "execution_count": 40,
      "outputs": [
        {
          "output_type": "stream",
          "name": "stderr",
          "text": [
            "WARNING:tensorflow:Compiled the loaded model, but the compiled metrics have yet to be built. `model.compile_metrics` will be empty until you train or evaluate the model.\n"
          ]
        }
      ]
    },
    {
      "cell_type": "markdown",
      "source": [
        "### Build 3rd Sequential API Model\n",
        "Building with 3 layers convolutional2D with different filters (16, 32, 64) with 3x3, batch normalization, & maxpool2D, then flattening prior fully-connected neural-networking with 2 hidden layers (with 128 & 32 neurons), and setting up dropout 0.5 & 0.3 which means that the neurons in the previous layer has a probability of 0.5 & 0.3 in dropping out during training. All activation function are using relu"
      ],
      "metadata": {
        "id": "h4iUToLyDXAo"
      }
    },
    {
      "cell_type": "code",
      "source": [
        "\n",
        "# Declare 3rd Sequential API model\n",
        "model_s3 = Sequential()\n",
        "\n",
        "# convolutional + maxpooling\n",
        "model_s3.add(Conv2D(16, 3, activation='relu', input_shape=(img_height, img_width, 3)))\n",
        "model_s3.add(MaxPool2D(2))\n",
        "\n",
        "model_s3.add(Conv2D(32, 3, activation='relu'))\n",
        "model_s3.add(MaxPool2D(2))\n",
        "\n",
        "model_s3.add(Conv2D(64, 3, activation='relu'))\n",
        "model_s3.add(MaxPool2D(2))\n",
        "\n",
        "# flattening\n",
        "model_s3.add(Flatten())\n",
        "\n",
        "# neural-networking\n",
        "model_s3.add(Dense(128, activation='relu'))\n",
        "model_s3.add(Dropout(0.5))\n",
        "model_s3.add(Dense(32, activation='relu'))\n",
        "model_s3.add(Dropout(0.3))\n",
        "model_s3.add(Dense(8, activation='softmax'))"
      ],
      "metadata": {
        "id": "X04uYIXo4stV"
      },
      "execution_count": 41,
      "outputs": []
    },
    {
      "cell_type": "markdown",
      "source": [
        "This code defines a new model using the Sequential API from the Keras library. The model is also a convolutional neural network (CNN) that consists of several layers.\n",
        "\n",
        "The first layer is a 2D convolutional layer with 16 filters and a kernel size of 3x3. This layer also has a rectified linear unit (ReLU) activation function and takes an input shape of (img_height, img_width, 3) where img_height and img_width are the dimensions of the input image. This layer is followed by a max pooling layer that reduces the spatial dimensions of the feature maps by a factor of 2.\n",
        "\n",
        "The next two layers are similar to the first one, but with 32 and 64 filters respectively. Both these layers are also followed by max pooling layers.\n",
        "\n",
        "After the convolutional and max pooling layers, the model has a flatten layer which converts the 3D feature maps into a 1D vector. Then there are 3 dense layers with 128, 32, 8 neurons respectively and ReLU activation. Then there are two dropout layers with rate of 0.5 and 0.3 respectively. The final layer of the model has 8 neurons and a softmax activation function, which is used for multi-class classification."
      ],
      "metadata": {
        "id": "8OfvyW1_D8l1"
      }
    },
    {
      "cell_type": "markdown",
      "source": [
        "The optimizer used is 'RMSprop' with a preset learning rate of 0.0001. The loss function selected is 'categorical_crossentropy' as the output is expected to be the highest probability among the different classes of diseases ['Anthracnose', 'algal leaf', 'bird eye spot', 'brown blight', 'gray light', 'healthy', 'red leaf spot', 'white spot']. The accuracy is used as the metric to monitor the model's learning progress."
      ],
      "metadata": {
        "id": "EdaFSrNaEilG"
      }
    },
    {
      "cell_type": "code",
      "source": [
        "# model-compiling\n",
        "model_s3.compile(loss='categorical_crossentropy',\n",
        "              optimizer=tf.keras.optimizers.RMSprop(learning_rate=0.0001),\n",
        "              metrics=['accuracy'])"
      ],
      "metadata": {
        "id": "qg9dtE5LD79j"
      },
      "execution_count": 42,
      "outputs": []
    },
    {
      "cell_type": "markdown",
      "source": [
        "compiling the 3rd Sequential API model, and specifying the loss function as 'categorical_crossentropy', optimizer as 'RMSprop' with a learning rate of 0.0001, and the metrics as 'accuracy'. This is done so that the model can be trained and evaluated using the specified loss function, optimizer and metrics."
      ],
      "metadata": {
        "id": "foGr00M9aHT2"
      }
    },
    {
      "cell_type": "markdown",
      "source": [
        "training the third model, model_s3, on the augmented training data and the validation data. The fit() function is used to train the model on the training data and the validation_data argument is used to evaluate the model's performance on the validation data during training. The callbacks argument is used to specify a list of callbacks that should be applied during training. In this case, you're using the ReduceLROnPlateau callback, which reduces the learning rate of the optimizer when the validation loss stops improving. This can help to prevent the model from getting stuck in a suboptimal solution."
      ],
      "metadata": {
        "id": "8lbydJvIc_4A"
      }
    },
    {
      "cell_type": "code",
      "source": [
        "# Train 3rd Sequential API model\n",
        "reduce_lr = ReduceLROnPlateau(monitor='val_loss', factor=0.1, patience=8, min_lr=0.0001)\n",
        "\n",
        "# earlystop = EarlyStopping(monitor='val_accuracy', mode='auto', patience=10, restore_best_weights=True)\n",
        "history_s3 = model_s3.fit(train_data_augmented, epochs=30, validation_data=valid_data, callbacks=[reduce_lr])"
      ],
      "metadata": {
        "colab": {
          "base_uri": "https://localhost:8080/"
        },
        "id": "7kxiulxXEnKB",
        "outputId": "e184a315-1494-4580-bf18-eb698f93e700"
      },
      "execution_count": 43,
      "outputs": [
        {
          "output_type": "stream",
          "name": "stdout",
          "text": [
            "Epoch 1/30\n",
            "23/23 [==============================] - 113s 5s/step - loss: 2.0838 - accuracy: 0.1643 - val_loss: 2.0489 - val_accuracy: 0.1379 - lr: 1.0000e-04\n",
            "Epoch 2/30\n",
            "23/23 [==============================] - 100s 4s/step - loss: 2.0392 - accuracy: 0.1756 - val_loss: 1.9712 - val_accuracy: 0.1724 - lr: 1.0000e-04\n",
            "Epoch 3/30\n",
            "23/23 [==============================] - 100s 4s/step - loss: 1.9681 - accuracy: 0.2125 - val_loss: 1.8849 - val_accuracy: 0.2529 - lr: 1.0000e-04\n",
            "Epoch 4/30\n",
            "23/23 [==============================] - 100s 4s/step - loss: 1.9109 - accuracy: 0.2380 - val_loss: 1.7877 - val_accuracy: 0.3218 - lr: 1.0000e-04\n",
            "Epoch 5/30\n",
            "23/23 [==============================] - 101s 4s/step - loss: 1.8598 - accuracy: 0.2436 - val_loss: 1.7272 - val_accuracy: 0.2759 - lr: 1.0000e-04\n",
            "Epoch 6/30\n",
            "23/23 [==============================] - 104s 5s/step - loss: 1.7940 - accuracy: 0.2535 - val_loss: 1.6836 - val_accuracy: 0.3218 - lr: 1.0000e-04\n",
            "Epoch 7/30\n",
            "23/23 [==============================] - 100s 4s/step - loss: 1.7792 - accuracy: 0.2493 - val_loss: 1.5916 - val_accuracy: 0.3563 - lr: 1.0000e-04\n",
            "Epoch 8/30\n",
            "23/23 [==============================] - 104s 5s/step - loss: 1.7276 - accuracy: 0.2691 - val_loss: 1.5197 - val_accuracy: 0.2644 - lr: 1.0000e-04\n",
            "Epoch 9/30\n",
            "23/23 [==============================] - 101s 4s/step - loss: 1.6770 - accuracy: 0.2734 - val_loss: 1.5122 - val_accuracy: 0.4023 - lr: 1.0000e-04\n",
            "Epoch 10/30\n",
            "23/23 [==============================] - 101s 4s/step - loss: 1.6805 - accuracy: 0.2606 - val_loss: 1.4872 - val_accuracy: 0.4943 - lr: 1.0000e-04\n",
            "Epoch 11/30\n",
            "23/23 [==============================] - 100s 4s/step - loss: 1.6525 - accuracy: 0.2890 - val_loss: 1.4537 - val_accuracy: 0.5057 - lr: 1.0000e-04\n",
            "Epoch 12/30\n",
            "23/23 [==============================] - 103s 4s/step - loss: 1.6200 - accuracy: 0.2960 - val_loss: 1.4574 - val_accuracy: 0.3908 - lr: 1.0000e-04\n",
            "Epoch 13/30\n",
            "23/23 [==============================] - 100s 4s/step - loss: 1.6131 - accuracy: 0.2946 - val_loss: 1.4151 - val_accuracy: 0.5057 - lr: 1.0000e-04\n",
            "Epoch 14/30\n",
            "23/23 [==============================] - 102s 4s/step - loss: 1.5409 - accuracy: 0.3343 - val_loss: 1.3741 - val_accuracy: 0.4138 - lr: 1.0000e-04\n",
            "Epoch 15/30\n",
            "23/23 [==============================] - 100s 4s/step - loss: 1.5620 - accuracy: 0.3385 - val_loss: 1.4055 - val_accuracy: 0.4828 - lr: 1.0000e-04\n",
            "Epoch 16/30\n",
            "23/23 [==============================] - 102s 4s/step - loss: 1.5537 - accuracy: 0.3074 - val_loss: 1.3806 - val_accuracy: 0.5172 - lr: 1.0000e-04\n",
            "Epoch 17/30\n",
            "23/23 [==============================] - 100s 4s/step - loss: 1.5510 - accuracy: 0.3102 - val_loss: 1.3404 - val_accuracy: 0.5517 - lr: 1.0000e-04\n",
            "Epoch 18/30\n",
            "23/23 [==============================] - 101s 4s/step - loss: 1.5091 - accuracy: 0.3640 - val_loss: 1.2901 - val_accuracy: 0.5057 - lr: 1.0000e-04\n",
            "Epoch 19/30\n",
            "23/23 [==============================] - 100s 4s/step - loss: 1.4834 - accuracy: 0.3697 - val_loss: 1.2468 - val_accuracy: 0.5172 - lr: 1.0000e-04\n",
            "Epoch 20/30\n",
            "23/23 [==============================] - 99s 4s/step - loss: 1.4517 - accuracy: 0.3867 - val_loss: 1.2488 - val_accuracy: 0.4828 - lr: 1.0000e-04\n",
            "Epoch 21/30\n",
            "23/23 [==============================] - 103s 4s/step - loss: 1.4346 - accuracy: 0.3725 - val_loss: 1.1921 - val_accuracy: 0.5517 - lr: 1.0000e-04\n",
            "Epoch 22/30\n",
            "23/23 [==============================] - 99s 4s/step - loss: 1.4150 - accuracy: 0.4320 - val_loss: 1.2302 - val_accuracy: 0.4943 - lr: 1.0000e-04\n",
            "Epoch 23/30\n",
            "23/23 [==============================] - 103s 4s/step - loss: 1.3889 - accuracy: 0.4093 - val_loss: 1.1989 - val_accuracy: 0.5287 - lr: 1.0000e-04\n",
            "Epoch 24/30\n",
            "23/23 [==============================] - 100s 4s/step - loss: 1.3812 - accuracy: 0.3881 - val_loss: 1.2461 - val_accuracy: 0.4713 - lr: 1.0000e-04\n",
            "Epoch 25/30\n",
            "23/23 [==============================] - 104s 4s/step - loss: 1.3961 - accuracy: 0.3938 - val_loss: 1.2395 - val_accuracy: 0.5287 - lr: 1.0000e-04\n",
            "Epoch 26/30\n",
            "23/23 [==============================] - 100s 4s/step - loss: 1.3356 - accuracy: 0.4504 - val_loss: 1.1604 - val_accuracy: 0.5057 - lr: 1.0000e-04\n",
            "Epoch 27/30\n",
            "23/23 [==============================] - 103s 4s/step - loss: 1.3214 - accuracy: 0.4504 - val_loss: 1.2674 - val_accuracy: 0.4828 - lr: 1.0000e-04\n",
            "Epoch 28/30\n",
            "23/23 [==============================] - 99s 4s/step - loss: 1.3311 - accuracy: 0.4207 - val_loss: 1.1067 - val_accuracy: 0.5172 - lr: 1.0000e-04\n",
            "Epoch 29/30\n",
            "23/23 [==============================] - 100s 4s/step - loss: 1.2934 - accuracy: 0.4391 - val_loss: 1.1108 - val_accuracy: 0.5057 - lr: 1.0000e-04\n",
            "Epoch 30/30\n",
            "23/23 [==============================] - 99s 4s/step - loss: 1.2859 - accuracy: 0.4363 - val_loss: 1.0726 - val_accuracy: 0.5977 - lr: 1.0000e-04\n"
          ]
        }
      ]
    },
    {
      "cell_type": "code",
      "source": [
        "# Plot loss & accuracy of 3rd Sequential API model\n",
        "\n",
        "plt.plot(history_s3.history['loss'])\n",
        "plt.plot(history_s3.history['val_loss'])\n",
        "plt.title('Model loss')\n",
        "plt.ylabel('Loss')\n",
        "plt.xlabel('Epoch')\n",
        "plt.legend(['Train', 'Val'], loc='upper right')\n",
        "plt.show()"
      ],
      "metadata": {
        "colab": {
          "base_uri": "https://localhost:8080/",
          "height": 295
        },
        "id": "T3MK7T96Gcqc",
        "outputId": "2423b1a0-4799-4a18-b305-9c4f85e3c04d"
      },
      "execution_count": 44,
      "outputs": [
        {
          "output_type": "display_data",
          "data": {
            "text/plain": [
              "<Figure size 432x288 with 1 Axes>"
            ],
            "image/png": "[encoded data removed]"
          },
          "metadata": {
            "needs_background": "light"
          }
        }
      ]
    },
    {
      "cell_type": "markdown",
      "source": [
        "plot shows the loss (error) of the model over the number of training epochs. The blue line represents the loss of the training set, while the orange line represents the loss of the validation set. This graph can help you identify overfitting, where the training loss is decreasing while the validation loss is increasing. It also can help you to determine when to stop training, as the validation loss stops decreasing or starts to increase.\n",
        "\n",
        "It can also be seen from the graph that the training loss is decreasing and validation loss is also decreasing. This is a good sign that the model is generalizing well on unseen data, and not just memorizing the training data."
      ],
      "metadata": {
        "id": "REhf3ITbg3vL"
      }
    },
    {
      "cell_type": "code",
      "source": [
        "plt.plot(history_s2.history['accuracy'])\n",
        "plt.plot(history_s2.history['val_accuracy'])\n",
        "plt.title('Model Accuracy')\n",
        "plt.ylabel('Accuracy')\n",
        "plt.xlabel('Epoch')\n",
        "plt.legend(['Train', 'Val'], loc='lower right')\n",
        "plt.show()"
      ],
      "metadata": {
        "colab": {
          "base_uri": "https://localhost:8080/",
          "height": 295
        },
        "id": "_wn-pZEJdERc",
        "outputId": "ae7a0645-798e-4d2a-c86d-f057b4eb2a16"
      },
      "execution_count": 45,
      "outputs": [
        {
          "output_type": "display_data",
          "data": {
            "text/plain": [
              "<Figure size 432x288 with 1 Axes>"
            ],
            "image/png": "[encoded data removed]"
          },
          "metadata": {
            "needs_background": "light"
          }
        }
      ]
    },
    {
      "cell_type": "markdown",
      "source": [
        "Training and validation accuracy for the 2nd Sequential API model over the number of training epochs. The x-axis represents the number of training epochs and the y-axis represents the accuracy. The blue line represents the training accuracy and the orange line represents the validation accuracy. The plot shows how the accuracy of the model on the training data and validation data changes as the number of training epochs increases. This can help to understand how well the model is performing and if it is overfitting or underfitting.\n",
        "\n",
        "One of the key things to notice here is how the validation accuracy and training accuracy are trending with respect to each other. Ideally, we want both of them to trend upwards, with validation accuracy being slightly lower than training accuracy. If the validation accuracy is lower than the training accuracy, it means that the model is overfitting. If the validation accuracy is not improving or is even decreasing while the training accuracy is increasing, it means that the model is underfitting.\n",
        "\n",
        "From the plot, it seems like the accuracy is improving over time"
      ],
      "metadata": {
        "id": "6swAvE9KhLD3"
      }
    },
    {
      "cell_type": "code",
      "source": [
        "# save trained model_s3\n",
        "model_s3.save('model_s3.h5')"
      ],
      "metadata": {
        "id": "qycQuqW5g8ni"
      },
      "execution_count": 46,
      "outputs": []
    },
    {
      "cell_type": "markdown",
      "source": [
        "### **- CNN - Functional API**"
      ],
      "metadata": {
        "id": "d1NAssDSjzkk"
      }
    },
    {
      "cell_type": "markdown",
      "source": [
        "#### Lets build 1st Functional API Model\n"
      ],
      "metadata": {
        "id": "8maMPSFakIJn"
      }
    },
    {
      "cell_type": "markdown",
      "source": [
        "The functional API, on the other hand, is a more flexible way to create neural networks using Keras. With the functional API, we can create models with non-linear topologies, shared layers, and even multiple inputs or outputs. Instead of adding layers one at a time, you define the input and output tensors for each layer, and use them to create the model."
      ],
      "metadata": {
        "id": "levYBDsHkUaf"
      }
    },
    {
      "cell_type": "markdown",
      "source": [
        "Building with 2 branched convolutional layers with shared input where both branched layers involves 2 layers convolutional2D with different filters (1st layers: all filters 32 & 2nd layers: all filters 64) and maxpooling then flattening and concatenating prior fully-connected neural-networking 1 hidden layers (with 32 neurons) then setting up dropout 0.3 which means that the neurons in the previous layer has a probability of 0.3 in dropping out during training. All activation function are using relu."
      ],
      "metadata": {
        "id": "ZbS82KHZkawu"
      }
    },
    {
      "cell_type": "code",
      "source": [
        "\n",
        "# Declare 1st Functional API model\n",
        "# defining shared inputs\n",
        "inputs = Input(shape=(img_height, img_width, 3))\n",
        "\n",
        "# convolutional + maxpooling: first branced layer feature extractor\n",
        "conv1 = Conv2D(32, 3, activation='relu')(inputs)\n",
        "pool1 = MaxPool2D(2)(conv1)\n",
        "conv3 = Conv2D(32, 3, activation='relu')(pool1)\n",
        "pool3 = MaxPool2D(2)(conv3)\n",
        "flat1 = Flatten()(pool3)\n",
        "\n",
        "# convolutional + maxpooling: second branced layer feature extractor\n",
        "conv2 = Conv2D(64, 3, activation='relu')(inputs)\n",
        "pool2 = MaxPool2D(2)(conv2)\n",
        "conv4 = Conv2D(64, 3, activation='relu')(pool2)\n",
        "pool4 = MaxPool2D(2)(conv4)\n",
        "flat2 = Flatten()(pool4)\n",
        "\n",
        "# merging feature extractors\n",
        "merge = concatenate([flat1, flat2])\n",
        "\n",
        "# neural-networking\n",
        "hidden1 = Dense(32, activation='relu')(merge)\n",
        "dropout = Dropout(0.3)(hidden1)\n",
        "\n",
        "# prediction output\n",
        "outputs = Dense(8, activation='softmax')(dropout)\n",
        "model_f1 = Model(inputs=inputs, outputs=outputs)"
      ],
      "metadata": {
        "id": "glJv5UyahkeJ"
      },
      "execution_count": 47,
      "outputs": []
    },
    {
      "cell_type": "markdown",
      "source": [
        "This code defines a deep learning model using the Functional API of Keras. The Functional API allows us to define a model with multiple input or output branches, or to have shared layers.\n",
        "\n",
        "First, an Input layer is defined with the shape of the input data (img_height, img_width, 3). This is the first layer of the model and it serves as a placeholder for the input data.\n",
        "\n",
        "Then, two branches of layers are defined. Each branch starts with a Conv2D layer followed by a MaxPool2D layer. The number of filters and kernel size are the same for both branches but the number of filters is different. This way both branches learn different features from the input image.\n",
        "\n",
        "The output of the last MaxPool2D layer of each branch is Flatten to convert the multi-dimensional output into a one-dimensional tensor.\n",
        "\n",
        "After that, the two branches are concatenated together and the result is passed to a Dense layer with 32 neurons and a relu activation function.\n",
        "\n",
        "After that, Dropout layer is added to reduce overfitting. Finally, the output is passed through a final Dense layer with 8 neurons and a softmax activation function. This produces the 8-class probability scores for the input image.\n",
        "\n",
        "The final step is to create a Model object by specifying the inputs and outputs. This compiles the model with the specified architecture and makes it ready for training.\n",
        "\n",
        "Using optimizer 'adam' refers to most favorable optimizer, loss function 'categorical_crossentropy' since expected output is the most highest probability between class ['Anthracnose', 'algal leaf', 'bird eye spot', 'brown blight', 'gray light', 'healthy', 'red leaf spot', 'white spot'], and metrics 'accuracy' for monitoring in model learning"
      ],
      "metadata": {
        "id": "FRm1_Tm7lPjN"
      }
    },
    {
      "cell_type": "code",
      "source": [
        "# Compile 1st Functional API model\n",
        "\n",
        "model_f1.compile(loss='categorical_crossentropy',\n",
        "              optimizer='adam',\n",
        "              metrics=['accuracy'])"
      ],
      "metadata": {
        "id": "ruVDYsNRkeju"
      },
      "execution_count": 48,
      "outputs": []
    },
    {
      "cell_type": "markdown",
      "source": [
        "Using input train_data_augmented for training and valid_data for validation, with 30 epochs for in model learning, and ReduceLROnPlateau callbacks"
      ],
      "metadata": {
        "id": "1BCE8Fiylkkc"
      }
    },
    {
      "cell_type": "code",
      "source": [
        "# Train 1st Functional API model\n",
        "reduce_lr = ReduceLROnPlateau(monitor='val_loss', factor=0.1, patience=8, min_lr=0.0001)\n",
        "\n",
        "# earlystop = EarlyStopping(monitor='val_accuracy', mode='auto', patience=10, restore_best_weights=True)\n",
        "history_f1 = model_f1.fit(train_data_augmented, epochs=30, validation_data=valid_data, callbacks=[reduce_lr])"
      ],
      "metadata": {
        "colab": {
          "base_uri": "https://localhost:8080/"
        },
        "id": "SrHHB19Plir2",
        "outputId": "6f711e92-5564-4c55-a914-5fb719a38be6"
      },
      "execution_count": null,
      "outputs": [
        {
          "output_type": "stream",
          "name": "stdout",
          "text": [
            "Epoch 1/30\n",
            "23/23 [==============================] - 207s 9s/step - loss: 2.8560 - accuracy: 0.1416 - val_loss: 2.0782 - val_accuracy: 0.1609 - lr: 0.0010\n",
            "Epoch 2/30\n",
            "23/23 [==============================] - 198s 9s/step - loss: 2.0778 - accuracy: 0.1601 - val_loss: 2.0772 - val_accuracy: 0.1609 - lr: 0.0010\n",
            "Epoch 3/30\n",
            "23/23 [==============================] - 195s 8s/step - loss: 2.0768 - accuracy: 0.1601 - val_loss: 2.0760 - val_accuracy: 0.1609 - lr: 0.0010\n",
            "Epoch 4/30\n",
            "23/23 [==============================] - 190s 8s/step - loss: 2.0755 - accuracy: 0.1601 - val_loss: 2.0747 - val_accuracy: 0.1609 - lr: 0.0010\n",
            "Epoch 5/30\n",
            "23/23 [==============================] - 194s 8s/step - loss: 2.0746 - accuracy: 0.1601 - val_loss: 2.0740 - val_accuracy: 0.1609 - lr: 0.0010\n",
            "Epoch 6/30\n",
            "23/23 [==============================] - 194s 8s/step - loss: 2.0738 - accuracy: 0.1601 - val_loss: 2.0732 - val_accuracy: 0.1609 - lr: 0.0010\n",
            "Epoch 7/30\n",
            "23/23 [==============================] - 195s 8s/step - loss: 2.0730 - accuracy: 0.1572 - val_loss: 2.0723 - val_accuracy: 0.1609 - lr: 0.0010\n",
            "Epoch 8/30\n",
            "23/23 [==============================] - 190s 8s/step - loss: 2.0720 - accuracy: 0.1615 - val_loss: 2.0714 - val_accuracy: 0.1609 - lr: 0.0010\n",
            "Epoch 9/30\n",
            "23/23 [==============================] - 189s 8s/step - loss: 2.0713 - accuracy: 0.1615 - val_loss: 2.0707 - val_accuracy: 0.1609 - lr: 0.0010\n",
            "Epoch 10/30\n",
            "23/23 [==============================] - 192s 8s/step - loss: 2.0706 - accuracy: 0.1615 - val_loss: 2.0700 - val_accuracy: 0.1609 - lr: 0.0010\n",
            "Epoch 11/30\n",
            "23/23 [==============================] - 193s 8s/step - loss: 2.0699 - accuracy: 0.1615 - val_loss: 2.0694 - val_accuracy: 0.1609 - lr: 0.0010\n",
            "Epoch 12/30\n",
            "23/23 [==============================] - 193s 9s/step - loss: 2.0695 - accuracy: 0.1615 - val_loss: 2.0690 - val_accuracy: 0.1609 - lr: 0.0010\n",
            "Epoch 13/30\n",
            "23/23 [==============================] - 190s 8s/step - loss: 2.0690 - accuracy: 0.1615 - val_loss: 2.0685 - val_accuracy: 0.1609 - lr: 0.0010\n",
            "Epoch 14/30\n",
            "23/23 [==============================] - 192s 8s/step - loss: 2.0685 - accuracy: 0.1615 - val_loss: 2.0679 - val_accuracy: 0.1609 - lr: 0.0010\n",
            "Epoch 15/30\n",
            "23/23 [==============================] - 192s 8s/step - loss: 2.0680 - accuracy: 0.1615 - val_loss: 2.0674 - val_accuracy: 0.1609 - lr: 0.0010\n",
            "Epoch 16/30\n",
            "23/23 [==============================] - 188s 8s/step - loss: 2.0674 - accuracy: 0.1615 - val_loss: 2.0668 - val_accuracy: 0.1609 - lr: 0.0010\n",
            "Epoch 17/30\n",
            "23/23 [==============================] - 193s 8s/step - loss: 2.0670 - accuracy: 0.1601 - val_loss: 2.0665 - val_accuracy: 0.1609 - lr: 0.0010\n",
            "Epoch 18/30\n"
          ]
        }
      ]
    },
    {
      "cell_type": "code",
      "source": [],
      "metadata": {
        "id": "bf8esqullnHw"
      },
      "execution_count": null,
      "outputs": []
    }
  ]
}